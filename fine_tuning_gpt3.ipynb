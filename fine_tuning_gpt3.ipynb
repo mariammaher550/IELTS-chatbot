{
 "cells": [
  {
   "cell_type": "markdown",
   "metadata": {},
   "source": [
    "# Reading & Preprocessing the dataset\n"
   ]
  },
  {
   "cell_type": "code",
   "execution_count": 6,
   "metadata": {},
   "outputs": [],
   "source": [
    "prompt = \"\"\"\n",
    "you are an IELTS examiner. your task is to evaluate a writing section in an IELTS academic\n",
    "exam. you have to provide overall band score in <BAND_SCORE> </BAND_SCORE> tags and detailed evaluation in <EVALUATION></EVALUATION> tags . I will provide you the grading\n",
    "criteria in <CRITERIA> </CRITERIA> tags. The user will send you the task and his answer and you should respond with a feedback on how well does the user follow the grading criteria and his score. Provide his score in this format <Score>Score</Score>.\n",
    "<CRITERIA>\n",
    "TASK RESPONSE (TR)\n",
    "For Task 2 of both AC and GT Writing tests, candidates are required to formulate and\n",
    "develop a position in relation to a given prompt in the form of a question or\n",
    "statement, using a minimum of 250 words. Ideas should be supported by evidence,\n",
    "and examples may be drawn from a candidate’s own experience.\n",
    "The TR criterion assesses:\n",
    "▪ how fully the candidate responds to the task.\n",
    "▪ how adequately the main ideas are extended and supported.\n",
    "▪ how relevant the candidate’s ideas are to the task.\n",
    "▪ how clearly the candidate opens the discourse, establishes their position and\n",
    "formulates conclusions.\n",
    "▪ how appropriate the format of the response is to the task.\n",
    "COHERENCE AND COHESION (CC)\n",
    "This criterion is concerned with the overall organisation and logical development of\n",
    "the message: how the response organises and links information, ideas and language.\n",
    "Coherence refers to the linking of ideas through logical sequencing, while cohesion\n",
    "refers to the varied and appropriate use of cohesive devices (e.g. logical connectors,\n",
    "conjunctions and pronouns) to assist in making clear the relationships between and\n",
    "within sentences.\n",
    "The CC criterion assesses:\n",
    "▪ the coherence of the response via the logical organisation of information\n",
    "and/or ideas, or the logical progression of the argument.\n",
    "▪ the appropriate use of paragraphing for topic organisation and presentation.\n",
    "▪ the logical sequencing of ideas and/or information within and across\n",
    "paragraphs.\n",
    "▪ the flexible use of reference and substitution (e.g. definite articles, pronouns).\n",
    "▪ the appropriate use of discourse markers to clearly mark the stages in a\n",
    "response, e.g. [First of all | In conclusion], and to signal the relationship between ideas and/or information, e.g. [as a result | similarly].\n",
    "\n",
    "LEXICAL RESOURCE (LR)\n",
    "This criterion refers to the range of vocabulary the candidate has used and the\n",
    "accuracy and appropriacy of that use in terms of the specific task.\n",
    "The LR criterion assesses:\n",
    "▪ the range of general words used (e.g. the use of synonyms to avoid repetition).\n",
    "▪ the adequacy and appropriacy of the vocabulary (e.g. topic-specific items,\n",
    "indicators of writer’s attitude).\n",
    "▪ the precision of word choice and expression.\n",
    "▪ the control and use of collocations, idiomatic expressions and sophisticated\n",
    "phrasing.\n",
    "▪ the density and communicative effect of errors in spelling.\n",
    "▪ the density and communicative effect of errors in word formation.\n",
    "GRAMMATICAL RANGE AND ACCURACY (GRA)\n",
    "This criterion refers to the range and accurate use of the candidate’s grammatical\n",
    "resource via the candidate’s writing at sentence level.\n",
    "The GRA criterion assesses:\n",
    "▪ the range and appropriacy of structures used in a given response (e.g. simple,\n",
    "compound and complex sentences).\n",
    "▪ the accuracy of simple, compound and complex sentences.\n",
    "▪ the density and communicative effect of grammatical errors.\n",
    "▪ the accurate and appropriate use of punctuation.\n",
    "</CRITERIA>\n",
    "\"\"\""
   ]
  },
  {
   "cell_type": "code",
   "execution_count": 4,
   "metadata": {},
   "outputs": [
    {
     "data": {
      "text/html": [
       "<div>\n",
       "<style scoped>\n",
       "    .dataframe tbody tr th:only-of-type {\n",
       "        vertical-align: middle;\n",
       "    }\n",
       "\n",
       "    .dataframe tbody tr th {\n",
       "        vertical-align: top;\n",
       "    }\n",
       "\n",
       "    .dataframe thead th {\n",
       "        text-align: right;\n",
       "    }\n",
       "</style>\n",
       "<table border=\"1\" class=\"dataframe\">\n",
       "  <thead>\n",
       "    <tr style=\"text-align: right;\">\n",
       "      <th></th>\n",
       "      <th>Question</th>\n",
       "      <th>Answer</th>\n",
       "      <th>Feedback</th>\n",
       "      <th>Final Score</th>\n",
       "    </tr>\n",
       "  </thead>\n",
       "  <tbody>\n",
       "    <tr>\n",
       "      <th>0</th>\n",
       "      <td>As countries have developed there has been a t...</td>\n",
       "      <td>Many countries around the world are becoming r...</td>\n",
       "      <td>The family size essay is well-organized - the ...</td>\n",
       "      <td>9.0</td>\n",
       "    </tr>\n",
       "    <tr>\n",
       "      <th>1</th>\n",
       "      <td>Many men and women are making the decision to ...</td>\n",
       "      <td>In the past, it was a natural step that a coup...</td>\n",
       "      <td>This essay on  having children later in life w...</td>\n",
       "      <td>8.5</td>\n",
       "    </tr>\n",
       "    <tr>\n",
       "      <th>2</th>\n",
       "      <td>Today, people in many countries have to spend ...</td>\n",
       "      <td>In today's world, many individuals find that t...</td>\n",
       "      <td>The essay would achieve a high score for IELTS...</td>\n",
       "      <td>8.5</td>\n",
       "    </tr>\n",
       "    <tr>\n",
       "      <th>3</th>\n",
       "      <td>Nowadays, families are not as close as in the ...</td>\n",
       "      <td>In today's world, many individuals find that t...</td>\n",
       "      <td>This family values essay would merit a high IE...</td>\n",
       "      <td>9.0</td>\n",
       "    </tr>\n",
       "    <tr>\n",
       "      <th>4</th>\n",
       "      <td>In recent times, many people are making the de...</td>\n",
       "      <td>There has been a tendency in many countries ov...</td>\n",
       "      <td>This living alone essay would receive a high I...</td>\n",
       "      <td>9.0</td>\n",
       "    </tr>\n",
       "  </tbody>\n",
       "</table>\n",
       "</div>"
      ],
      "text/plain": [
       "                                            Question  \\\n",
       "0  As countries have developed there has been a t...   \n",
       "1  Many men and women are making the decision to ...   \n",
       "2  Today, people in many countries have to spend ...   \n",
       "3  Nowadays, families are not as close as in the ...   \n",
       "4  In recent times, many people are making the de...   \n",
       "\n",
       "                                              Answer  \\\n",
       "0  Many countries around the world are becoming r...   \n",
       "1  In the past, it was a natural step that a coup...   \n",
       "2  In today's world, many individuals find that t...   \n",
       "3  In today's world, many individuals find that t...   \n",
       "4  There has been a tendency in many countries ov...   \n",
       "\n",
       "                                            Feedback  Final Score  \n",
       "0  The family size essay is well-organized - the ...          9.0  \n",
       "1  This essay on  having children later in life w...          8.5  \n",
       "2  The essay would achieve a high score for IELTS...          8.5  \n",
       "3  This family values essay would merit a high IE...          9.0  \n",
       "4  This living alone essay would receive a high I...          9.0  "
      ]
     },
     "execution_count": 4,
     "metadata": {},
     "output_type": "execute_result"
    }
   ],
   "source": [
    "import pandas as pd\n",
    "import json\n",
    "\n",
    "df = pd.read_csv('datasets/ielts_buddy_dataset.csv')\n",
    "df.head()"
   ]
  },
  {
   "cell_type": "code",
   "execution_count": 11,
   "metadata": {},
   "outputs": [
    {
     "name": "stdout",
     "output_type": "stream",
     "text": [
      "{'messages': [{'role': 'system', 'content': '\\nyou are an IELTS examiner. your task is to evaluate a writing section in an IELTS academic\\nexam. you have to provide overall band score in <BAND_SCORE> </BAND_SCORE> tags and detailed evaluation in <EVALUATION></EVALUATION> tags . I will provide you the grading\\ncriteria in <CRITERIA> </CRITERIA> tags. The user will send you the task and his answer and you should respond with a feedback on how well does the user follow the grading criteria and his score. Provide his score in this format <Score>Score</Score>.\\n<CRITERIA>\\nTASK RESPONSE (TR)\\nFor Task 2 of both AC and GT Writing tests, candidates are required to formulate and\\ndevelop a position in relation to a given prompt in the form of a question or\\nstatement, using a minimum of 250 words. Ideas should be supported by evidence,\\nand examples may be drawn from a candidate’s own experience.\\nThe TR criterion assesses:\\n▪ how fully the candidate responds to the task.\\n▪ how adequately the main ideas are extended and supported.\\n▪ how relevant the candidate’s ideas are to the task.\\n▪ how clearly the candidate opens the discourse, establishes their position and\\nformulates conclusions.\\n▪ how appropriate the format of the response is to the task.\\nCOHERENCE AND COHESION (CC)\\nThis criterion is concerned with the overall organisation and logical development of\\nthe message: how the response organises and links information, ideas and language.\\nCoherence refers to the linking of ideas through logical sequencing, while cohesion\\nrefers to the varied and appropriate use of cohesive devices (e.g. logical connectors,\\nconjunctions and pronouns) to assist in making clear the relationships between and\\nwithin sentences.\\nThe CC criterion assesses:\\n▪ the coherence of the response via the logical organisation of information\\nand/or ideas, or the logical progression of the argument.\\n▪ the appropriate use of paragraphing for topic organisation and presentation.\\n▪ the logical sequencing of ideas and/or information within and across\\nparagraphs.\\n▪ the flexible use of reference and substitution (e.g. definite articles, pronouns).\\n▪ the appropriate use of discourse markers to clearly mark the stages in a\\nresponse, e.g. [First of all | In conclusion], and to signal the relationship between ideas and/or information, e.g. [as a result | similarly].\\n\\nLEXICAL RESOURCE (LR)\\nThis criterion refers to the range of vocabulary the candidate has used and the\\naccuracy and appropriacy of that use in terms of the specific task.\\nThe LR criterion assesses:\\n▪ the range of general words used (e.g. the use of synonyms to avoid repetition).\\n▪ the adequacy and appropriacy of the vocabulary (e.g. topic-specific items,\\nindicators of writer’s attitude).\\n▪ the precision of word choice and expression.\\n▪ the control and use of collocations, idiomatic expressions and sophisticated\\nphrasing.\\n▪ the density and communicative effect of errors in spelling.\\n▪ the density and communicative effect of errors in word formation.\\nGRAMMATICAL RANGE AND ACCURACY (GRA)\\nThis criterion refers to the range and accurate use of the candidate’s grammatical\\nresource via the candidate’s writing at sentence level.\\nThe GRA criterion assesses:\\n▪ the range and appropriacy of structures used in a given response (e.g. simple,\\ncompound and complex sentences).\\n▪ the accuracy of simple, compound and complex sentences.\\n▪ the density and communicative effect of grammatical errors.\\n▪ the accurate and appropriate use of punctuation.\\n</CRITERIA>\\n'}, {'role': 'user', 'content': 'Here is the task:\\n <Task>As countries have developed there has been a trend towards  smaller family sizes. Why does this happen?How does this affect society?</Task> \\n And here is my answer: \\n <Answer>Many countries around the world are becoming richer as they develop and at the same time these countries are seeing a reduction in the size of the family unit. This essay will discuss the reasons for this phenomenon and examine some of the possible effects it will have on society.\\n\\nOne of the principal reasons for smaller family units is birth control. As a country develops and becomes richer, birth control becomes more readily available. This may be due to a rise in the number of medical clinics or the distribution of free contraception. The result of this is that people can choose family size. Another important factor is the rise in the levels of education that occur as a country develops, which means that women are more educated and more likely to be working. Consequently, many will want to delay having children and so will likely have fewer in the long-term. \\n\\nThis can impact on society in a number of ways. One positive effect is that the population will fall, which will likely result in less poverty as there will be less competition for scarce resources. The parents can also provide a better education to their children as it will cost less, which will benefit society as a whole. A possible negative impact is that there will be fewer younger people in the workforce in the future, thus making the sustainability of future economic growth less certain.\\n\\nIn conclusion, family size has fallen due to birth control and education, and this can have positive and negative impacts on society. Regardless of any impacts, this trend is likely to continue as countries around the world develop and become wealthier.\\n\\n</Answer>'}, {'role': 'assistant', 'content': 'Feedback: The family size essay is well-organized - the first sentence of the introduction introduces the topic and this is followed by the thesis which clearly states the issues that will be addressed:\\n\\nEach paragraph then addresses one of these parts in turn.\\n\\nThe first sentences clearly illustrate the topic of each paragraph:\\n\\nThe conclusion then repeats the thesis\\n\\nThe family size essay is well signposted with linking words and phrases to lead the reader through the ideas, giving reasons and results. For example, from body paragraph one:\\n\\nAll of the content clearly answers the question and the ideas are properly explained so there is no ambiguity. \\n\\n\\n <Score>9.0</Score>.'}]}\n"
     ]
    }
   ],
   "source": [
    "# Converting the dataset to the format needed for fine-tuning\n",
    "dataset = []\n",
    "for index, row in df.iterrows():\n",
    "    message = {\n",
    "        \"messages\": [\n",
    "            {\"role\": \"system\", \"content\": prompt},\n",
    "            {\"role\": \"user\", \"content\": f\"Here is the task:\\n <Task>{row['Question']}</Task> \\n And here is my answer: \\n <Answer>{row['Answer']}</Answer>\"},\n",
    "            {\"role\": \"assistant\", \"content\": f\"Feedback: {row['Feedback']}\\n <Score>{row['Final Score']}</Score>.\"}\n",
    "        ]\n",
    "    }\n",
    "    dataset.append(message)\n",
    "\n",
    "print(dataset[0])"
   ]
  },
  {
   "cell_type": "code",
   "execution_count": 12,
   "metadata": {},
   "outputs": [],
   "source": [
    "# Saving the dataset in jsonl format\n",
    "with open('datasets/ielts_buddy_dataset.jsonl', 'w') as outfile:\n",
    "    for entry in dataset:\n",
    "        json.dump(entry, outfile)\n",
    "        outfile.write('\\n')"
   ]
  },
  {
   "cell_type": "markdown",
   "metadata": {},
   "source": [
    "## Fine-tuning"
   ]
  },
  {
   "cell_type": "code",
   "execution_count": 18,
   "metadata": {},
   "outputs": [
    {
     "name": "stdout",
     "output_type": "stream",
     "text": [
      "File Uploaded Successfully with ID:  file-vFZOLs5IxtUWMiFD1oO8jGQS\n"
     ]
    }
   ],
   "source": [
    "import os\n",
    "import openai\n",
    "from utils import *\n",
    "\n",
    "api_key = open_file('../openapikey.txt')\n",
    "\n",
    "openai.api_key = api_key\n",
    "\n",
    "# Uploading the file\n",
    "with open('datasets/ielts_buddy_dataset.jsonl', 'rb') as file:\n",
    "  response = openai.File.create(file=file, purpose='fine-tune')\n",
    "  file_id = response['id']\n",
    "  print(\"File Uploaded Successfully with ID: \", file_id)"
   ]
  },
  {
   "cell_type": "code",
   "execution_count": 20,
   "metadata": {},
   "outputs": [
    {
     "name": "stdout",
     "output_type": "stream",
     "text": [
      "Job Created Successfully with ID:  ftjob-1lmYuHosNzjxv113ho6cvfE6\n"
     ]
    }
   ],
   "source": [
    "model_name = \"gpt-3.5-turbo\"\n",
    "\n",
    "# Creating Finetuning job\n",
    "response = openai.FineTuningJob.create(\n",
    "    training_file=file_id,\n",
    "    model=model_name\n",
    ")\n",
    "\n",
    "job_id = response['id']\n",
    "print(\"Job Created Successfully with ID: \", job_id)"
   ]
  }
 ],
 "metadata": {
  "kernelspec": {
   "display_name": "Python 3",
   "language": "python",
   "name": "python3"
  },
  "language_info": {
   "codemirror_mode": {
    "name": "ipython",
    "version": 3
   },
   "file_extension": ".py",
   "mimetype": "text/x-python",
   "name": "python",
   "nbconvert_exporter": "python",
   "pygments_lexer": "ipython3",
   "version": "3.10.10"
  }
 },
 "nbformat": 4,
 "nbformat_minor": 2
}
